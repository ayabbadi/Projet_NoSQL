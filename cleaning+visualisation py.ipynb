{
 "cells": [
  {
   "cell_type": "code",
   "execution_count": 1,
   "id": "e788b84d",
   "metadata": {},
   "outputs": [],
   "source": [
    "import numpy as np\n",
    "import pandas as pd"
   ]
  },
  {
   "cell_type": "code",
   "execution_count": 2,
   "id": "13841c51",
   "metadata": {},
   "outputs": [],
   "source": [
    "url_movies = \"C:/Users/DELL/Documents/MBD/nosql/movie_ratings.csv\""
   ]
  },
  {
   "cell_type": "code",
   "execution_count": 17,
   "id": "2e4d82ef",
   "metadata": {},
   "outputs": [],
   "source": [
    "df_movies = pd.read_csv(url_movies) "
   ]
  },
  {
   "cell_type": "code",
   "execution_count": 18,
   "id": "ce4684f5",
   "metadata": {},
   "outputs": [
    {
     "data": {
      "text/plain": [
       "(3236, 7)"
      ]
     },
     "execution_count": 18,
     "metadata": {},
     "output_type": "execute_result"
    }
   ],
   "source": [
    "df_movies.shape"
   ]
  },
  {
   "cell_type": "code",
   "execution_count": 19,
   "id": "db4f8961",
   "metadata": {},
   "outputs": [
    {
     "data": {
      "text/html": [
       "<div>\n",
       "<style scoped>\n",
       "    .dataframe tbody tr th:only-of-type {\n",
       "        vertical-align: middle;\n",
       "    }\n",
       "\n",
       "    .dataframe tbody tr th {\n",
       "        vertical-align: top;\n",
       "    }\n",
       "\n",
       "    .dataframe thead th {\n",
       "        text-align: right;\n",
       "    }\n",
       "</style>\n",
       "<table border=\"1\" class=\"dataframe\">\n",
       "  <thead>\n",
       "    <tr style=\"text-align: right;\">\n",
       "      <th></th>\n",
       "      <th>num</th>\n",
       "      <th>movie</th>\n",
       "      <th>year</th>\n",
       "      <th>imdb</th>\n",
       "      <th>metascore</th>\n",
       "      <th>votes</th>\n",
       "      <th>n_imdb</th>\n",
       "    </tr>\n",
       "  </thead>\n",
       "  <tbody>\n",
       "    <tr>\n",
       "      <th>0</th>\n",
       "      <td>0</td>\n",
       "      <td>Gladiator</td>\n",
       "      <td>2000.0</td>\n",
       "      <td>8.5</td>\n",
       "      <td>67.0</td>\n",
       "      <td>1454672.0</td>\n",
       "      <td>85.0</td>\n",
       "    </tr>\n",
       "    <tr>\n",
       "      <th>1</th>\n",
       "      <td>1</td>\n",
       "      <td>Memento</td>\n",
       "      <td>2000.0</td>\n",
       "      <td>8.4</td>\n",
       "      <td>80.0</td>\n",
       "      <td>1207642.0</td>\n",
       "      <td>84.0</td>\n",
       "    </tr>\n",
       "    <tr>\n",
       "      <th>2</th>\n",
       "      <td>2</td>\n",
       "      <td>Snatch</td>\n",
       "      <td>2000.0</td>\n",
       "      <td>8.3</td>\n",
       "      <td>55.0</td>\n",
       "      <td>837041.0</td>\n",
       "      <td>83.0</td>\n",
       "    </tr>\n",
       "    <tr>\n",
       "      <th>3</th>\n",
       "      <td>3</td>\n",
       "      <td>Requiem for a Dream</td>\n",
       "      <td>2000.0</td>\n",
       "      <td>8.3</td>\n",
       "      <td>68.0</td>\n",
       "      <td>821268.0</td>\n",
       "      <td>83.0</td>\n",
       "    </tr>\n",
       "    <tr>\n",
       "      <th>4</th>\n",
       "      <td>4</td>\n",
       "      <td>X-Men</td>\n",
       "      <td>2000.0</td>\n",
       "      <td>7.3</td>\n",
       "      <td>64.0</td>\n",
       "      <td>604615.0</td>\n",
       "      <td>73.0</td>\n",
       "    </tr>\n",
       "    <tr>\n",
       "      <th>5</th>\n",
       "      <td>5</td>\n",
       "      <td>Cast Away</td>\n",
       "      <td>2000.0</td>\n",
       "      <td>7.8</td>\n",
       "      <td>73.0</td>\n",
       "      <td>576272.0</td>\n",
       "      <td>78.0</td>\n",
       "    </tr>\n",
       "    <tr>\n",
       "      <th>6</th>\n",
       "      <td>6</td>\n",
       "      <td>American Psycho</td>\n",
       "      <td>2000.0</td>\n",
       "      <td>7.6</td>\n",
       "      <td>64.0</td>\n",
       "      <td>569614.0</td>\n",
       "      <td>76.0</td>\n",
       "    </tr>\n",
       "    <tr>\n",
       "      <th>7</th>\n",
       "      <td>7</td>\n",
       "      <td>Unbreakable</td>\n",
       "      <td>2000.0</td>\n",
       "      <td>7.3</td>\n",
       "      <td>62.0</td>\n",
       "      <td>411161.0</td>\n",
       "      <td>73.0</td>\n",
       "    </tr>\n",
       "    <tr>\n",
       "      <th>8</th>\n",
       "      <td>8</td>\n",
       "      <td>Mission: Impossible II</td>\n",
       "      <td>2000.0</td>\n",
       "      <td>6.1</td>\n",
       "      <td>59.0</td>\n",
       "      <td>334574.0</td>\n",
       "      <td>61.0</td>\n",
       "    </tr>\n",
       "    <tr>\n",
       "      <th>9</th>\n",
       "      <td>9</td>\n",
       "      <td>Meet the Parents</td>\n",
       "      <td>2000.0</td>\n",
       "      <td>7.0</td>\n",
       "      <td>73.0</td>\n",
       "      <td>329802.0</td>\n",
       "      <td>70.0</td>\n",
       "    </tr>\n",
       "  </tbody>\n",
       "</table>\n",
       "</div>"
      ],
      "text/plain": [
       "  num                   movie    year  imdb  metascore      votes  n_imdb\n",
       "0   0               Gladiator  2000.0   8.5       67.0  1454672.0    85.0\n",
       "1   1                 Memento  2000.0   8.4       80.0  1207642.0    84.0\n",
       "2   2                  Snatch  2000.0   8.3       55.0   837041.0    83.0\n",
       "3   3     Requiem for a Dream  2000.0   8.3       68.0   821268.0    83.0\n",
       "4   4                   X-Men  2000.0   7.3       64.0   604615.0    73.0\n",
       "5   5               Cast Away  2000.0   7.8       73.0   576272.0    78.0\n",
       "6   6         American Psycho  2000.0   7.6       64.0   569614.0    76.0\n",
       "7   7             Unbreakable  2000.0   7.3       62.0   411161.0    73.0\n",
       "8   8  Mission: Impossible II  2000.0   6.1       59.0   334574.0    61.0\n",
       "9   9        Meet the Parents  2000.0   7.0       73.0   329802.0    70.0"
      ]
     },
     "execution_count": 19,
     "metadata": {},
     "output_type": "execute_result"
    }
   ],
   "source": [
    "df_movies.head(10)"
   ]
  },
  {
   "cell_type": "code",
   "execution_count": 20,
   "id": "aa56b8ac",
   "metadata": {},
   "outputs": [
    {
     "name": "stdout",
     "output_type": "stream",
     "text": [
      "<class 'pandas.core.frame.DataFrame'>\n",
      "RangeIndex: 3236 entries, 0 to 3235\n",
      "Data columns (total 7 columns):\n",
      " #   Column     Non-Null Count  Dtype  \n",
      "---  ------     --------------  -----  \n",
      " 0   num        3236 non-null   object \n",
      " 1   movie      3196 non-null   object \n",
      " 2   year       3196 non-null   float64\n",
      " 3   imdb       3196 non-null   float64\n",
      " 4   metascore  3196 non-null   float64\n",
      " 5   votes      3196 non-null   float64\n",
      " 6   n_imdb     3196 non-null   float64\n",
      "dtypes: float64(5), object(2)\n",
      "memory usage: 177.1+ KB\n",
      "None\n"
     ]
    }
   ],
   "source": [
    "print(df_movies.info())"
   ]
  },
  {
   "cell_type": "code",
   "execution_count": 21,
   "id": "0a0f8114",
   "metadata": {},
   "outputs": [
    {
     "data": {
      "text/plain": [
       "num           0\n",
       "movie        40\n",
       "year         40\n",
       "imdb         40\n",
       "metascore    40\n",
       "votes        40\n",
       "n_imdb       40\n",
       "dtype: int64"
      ]
     },
     "execution_count": 21,
     "metadata": {},
     "output_type": "execute_result"
    }
   ],
   "source": [
    "df_movies.isnull().sum()"
   ]
  },
  {
   "cell_type": "code",
   "execution_count": 22,
   "id": "1d2f9134",
   "metadata": {},
   "outputs": [
    {
     "data": {
      "text/plain": [
       "num          0\n",
       "movie        0\n",
       "year         0\n",
       "imdb         0\n",
       "metascore    0\n",
       "votes        0\n",
       "n_imdb       0\n",
       "dtype: int64"
      ]
     },
     "execution_count": 22,
     "metadata": {},
     "output_type": "execute_result"
    }
   ],
   "source": [
    "df_movies.dropna(inplace=True)\n",
    "df_movies.isnull().sum()"
   ]
  },
  {
   "cell_type": "code",
   "execution_count": 23,
   "id": "d90cdb48",
   "metadata": {},
   "outputs": [
    {
     "data": {
      "text/plain": [
       "(3196, 7)"
      ]
     },
     "execution_count": 23,
     "metadata": {},
     "output_type": "execute_result"
    }
   ],
   "source": [
    "df_movies.shape"
   ]
  },
  {
   "cell_type": "code",
   "execution_count": 24,
   "id": "bb4ca0e5",
   "metadata": {},
   "outputs": [
    {
     "data": {
      "text/html": [
       "<div>\n",
       "<style scoped>\n",
       "    .dataframe tbody tr th:only-of-type {\n",
       "        vertical-align: middle;\n",
       "    }\n",
       "\n",
       "    .dataframe tbody tr th {\n",
       "        vertical-align: top;\n",
       "    }\n",
       "\n",
       "    .dataframe thead th {\n",
       "        text-align: right;\n",
       "    }\n",
       "</style>\n",
       "<table border=\"1\" class=\"dataframe\">\n",
       "  <thead>\n",
       "    <tr style=\"text-align: right;\">\n",
       "      <th></th>\n",
       "      <th>year</th>\n",
       "      <th>imdb</th>\n",
       "      <th>metascore</th>\n",
       "      <th>votes</th>\n",
       "      <th>n_imdb</th>\n",
       "    </tr>\n",
       "  </thead>\n",
       "  <tbody>\n",
       "    <tr>\n",
       "      <th>count</th>\n",
       "      <td>3196.000000</td>\n",
       "      <td>3196.000000</td>\n",
       "      <td>3196.000000</td>\n",
       "      <td>3.196000e+03</td>\n",
       "      <td>3196.000000</td>\n",
       "    </tr>\n",
       "    <tr>\n",
       "      <th>mean</th>\n",
       "      <td>2008.429287</td>\n",
       "      <td>7.125282</td>\n",
       "      <td>63.493116</td>\n",
       "      <td>3.909708e+05</td>\n",
       "      <td>71.252816</td>\n",
       "    </tr>\n",
       "    <tr>\n",
       "      <th>std</th>\n",
       "      <td>5.168552</td>\n",
       "      <td>0.730750</td>\n",
       "      <td>15.586267</td>\n",
       "      <td>2.686944e+05</td>\n",
       "      <td>7.307503</td>\n",
       "    </tr>\n",
       "    <tr>\n",
       "      <th>min</th>\n",
       "      <td>2000.000000</td>\n",
       "      <td>4.100000</td>\n",
       "      <td>24.000000</td>\n",
       "      <td>1.133510e+05</td>\n",
       "      <td>41.000000</td>\n",
       "    </tr>\n",
       "    <tr>\n",
       "      <th>25%</th>\n",
       "      <td>2004.000000</td>\n",
       "      <td>6.600000</td>\n",
       "      <td>52.000000</td>\n",
       "      <td>2.255040e+05</td>\n",
       "      <td>66.000000</td>\n",
       "    </tr>\n",
       "    <tr>\n",
       "      <th>50%</th>\n",
       "      <td>2008.000000</td>\n",
       "      <td>7.200000</td>\n",
       "      <td>64.000000</td>\n",
       "      <td>3.011300e+05</td>\n",
       "      <td>72.000000</td>\n",
       "    </tr>\n",
       "    <tr>\n",
       "      <th>75%</th>\n",
       "      <td>2013.000000</td>\n",
       "      <td>7.700000</td>\n",
       "      <td>75.000000</td>\n",
       "      <td>4.746230e+05</td>\n",
       "      <td>77.000000</td>\n",
       "    </tr>\n",
       "    <tr>\n",
       "      <th>max</th>\n",
       "      <td>2017.000000</td>\n",
       "      <td>9.000000</td>\n",
       "      <td>100.000000</td>\n",
       "      <td>2.558708e+06</td>\n",
       "      <td>90.000000</td>\n",
       "    </tr>\n",
       "  </tbody>\n",
       "</table>\n",
       "</div>"
      ],
      "text/plain": [
       "              year         imdb    metascore         votes       n_imdb\n",
       "count  3196.000000  3196.000000  3196.000000  3.196000e+03  3196.000000\n",
       "mean   2008.429287     7.125282    63.493116  3.909708e+05    71.252816\n",
       "std       5.168552     0.730750    15.586267  2.686944e+05     7.307503\n",
       "min    2000.000000     4.100000    24.000000  1.133510e+05    41.000000\n",
       "25%    2004.000000     6.600000    52.000000  2.255040e+05    66.000000\n",
       "50%    2008.000000     7.200000    64.000000  3.011300e+05    72.000000\n",
       "75%    2013.000000     7.700000    75.000000  4.746230e+05    77.000000\n",
       "max    2017.000000     9.000000   100.000000  2.558708e+06    90.000000"
      ]
     },
     "execution_count": 24,
     "metadata": {},
     "output_type": "execute_result"
    }
   ],
   "source": [
    "df_movies.describe()"
   ]
  },
  {
   "cell_type": "code",
   "execution_count": 34,
   "id": "2648ca4f",
   "metadata": {},
   "outputs": [
    {
     "data": {
      "text/plain": [
       "array([2000., 2001., 2002., 2003., 2004., 2005., 2006., 2007., 2008.,\n",
       "       2009., 2010., 2011., 2012., 2013., 2014., 2015., 2016., 2017.])"
      ]
     },
     "execution_count": 34,
     "metadata": {},
     "output_type": "execute_result"
    }
   ],
   "source": [
    "df_movies['year'].unique()"
   ]
  },
  {
   "cell_type": "code",
   "execution_count": 37,
   "id": "aa8d83a2",
   "metadata": {},
   "outputs": [
    {
     "data": {
      "text/html": [
       "<div>\n",
       "<style scoped>\n",
       "    .dataframe tbody tr th:only-of-type {\n",
       "        vertical-align: middle;\n",
       "    }\n",
       "\n",
       "    .dataframe tbody tr th {\n",
       "        vertical-align: top;\n",
       "    }\n",
       "\n",
       "    .dataframe thead th {\n",
       "        text-align: right;\n",
       "    }\n",
       "</style>\n",
       "<table border=\"1\" class=\"dataframe\">\n",
       "  <thead>\n",
       "    <tr style=\"text-align: right;\">\n",
       "      <th></th>\n",
       "      <th>imdb</th>\n",
       "      <th>metascore</th>\n",
       "    </tr>\n",
       "  </thead>\n",
       "  <tbody>\n",
       "    <tr>\n",
       "      <th>min</th>\n",
       "      <td>4.1</td>\n",
       "      <td>24.0</td>\n",
       "    </tr>\n",
       "    <tr>\n",
       "      <th>max</th>\n",
       "      <td>9.0</td>\n",
       "      <td>100.0</td>\n",
       "    </tr>\n",
       "  </tbody>\n",
       "</table>\n",
       "</div>"
      ],
      "text/plain": [
       "     imdb  metascore\n",
       "min   4.1       24.0\n",
       "max   9.0      100.0"
      ]
     },
     "execution_count": 37,
     "metadata": {},
     "output_type": "execute_result"
    }
   ],
   "source": [
    "df_movies.describe().loc[['min', 'max'], ['imdb', 'metascore']]"
   ]
  },
  {
   "cell_type": "code",
   "execution_count": 38,
   "id": "0c41a75b",
   "metadata": {},
   "outputs": [
    {
     "data": {
      "text/html": [
       "<div>\n",
       "<style scoped>\n",
       "    .dataframe tbody tr th:only-of-type {\n",
       "        vertical-align: middle;\n",
       "    }\n",
       "\n",
       "    .dataframe tbody tr th {\n",
       "        vertical-align: top;\n",
       "    }\n",
       "\n",
       "    .dataframe thead th {\n",
       "        text-align: right;\n",
       "    }\n",
       "</style>\n",
       "<table border=\"1\" class=\"dataframe\">\n",
       "  <thead>\n",
       "    <tr style=\"text-align: right;\">\n",
       "      <th></th>\n",
       "      <th>num</th>\n",
       "      <th>movie</th>\n",
       "      <th>year</th>\n",
       "      <th>imdb</th>\n",
       "      <th>metascore</th>\n",
       "      <th>votes</th>\n",
       "      <th>n_imdb</th>\n",
       "    </tr>\n",
       "  </thead>\n",
       "  <tbody>\n",
       "    <tr>\n",
       "      <th>0</th>\n",
       "      <td>0</td>\n",
       "      <td>Gladiator</td>\n",
       "      <td>2000.0</td>\n",
       "      <td>8.5</td>\n",
       "      <td>67.0</td>\n",
       "      <td>1454672.0</td>\n",
       "      <td>85.0</td>\n",
       "    </tr>\n",
       "    <tr>\n",
       "      <th>1</th>\n",
       "      <td>1</td>\n",
       "      <td>Memento</td>\n",
       "      <td>2000.0</td>\n",
       "      <td>8.4</td>\n",
       "      <td>80.0</td>\n",
       "      <td>1207642.0</td>\n",
       "      <td>84.0</td>\n",
       "    </tr>\n",
       "    <tr>\n",
       "      <th>2</th>\n",
       "      <td>2</td>\n",
       "      <td>Snatch</td>\n",
       "      <td>2000.0</td>\n",
       "      <td>8.3</td>\n",
       "      <td>55.0</td>\n",
       "      <td>837041.0</td>\n",
       "      <td>83.0</td>\n",
       "    </tr>\n",
       "  </tbody>\n",
       "</table>\n",
       "</div>"
      ],
      "text/plain": [
       "  num      movie    year  imdb  metascore      votes  n_imdb\n",
       "0   0  Gladiator  2000.0   8.5       67.0  1454672.0    85.0\n",
       "1   1    Memento  2000.0   8.4       80.0  1207642.0    84.0\n",
       "2   2     Snatch  2000.0   8.3       55.0   837041.0    83.0"
      ]
     },
     "execution_count": 38,
     "metadata": {},
     "output_type": "execute_result"
    }
   ],
   "source": [
    "df_movies['n_imdb'] = df_movies['imdb'] * 10\n",
    "df_movies.head(3)"
   ]
  },
  {
   "cell_type": "code",
   "execution_count": 40,
   "id": "c902a850",
   "metadata": {},
   "outputs": [],
   "source": [
    "df_movies.to_csv('movie_ratings2.csv')"
   ]
  },
  {
   "cell_type": "code",
   "execution_count": 25,
   "id": "0fac65bf",
   "metadata": {},
   "outputs": [],
   "source": [
    "from pandas.plotting import scatter_matrix"
   ]
  },
  {
   "cell_type": "code",
   "execution_count": 26,
   "id": "dfbc40aa",
   "metadata": {},
   "outputs": [],
   "source": [
    "import matplotlib.pyplot as plt"
   ]
  },
  {
   "cell_type": "code",
   "execution_count": 27,
   "id": "047b705c",
   "metadata": {},
   "outputs": [],
   "source": [
    "import seaborn as sns"
   ]
  },
  {
   "cell_type": "code",
   "execution_count": 43,
   "id": "bd23655f",
   "metadata": {},
   "outputs": [
    {
     "name": "stderr",
     "output_type": "stream",
     "text": [
      "C:\\Users\\DELL\\AppData\\Local\\Programs\\Python\\Python39\\lib\\site-packages\\seaborn\\_decorators.py:36: FutureWarning: Pass the following variables as keyword args: x, y. From version 0.12, the only valid positional argument will be `data`, and passing other arguments without an explicit keyword will result in an error or misinterpretation.\n",
      "  warnings.warn(\n"
     ]
    },
    {
     "data": {
      "text/plain": [
       "<AxesSubplot:>"
      ]
     },
     "execution_count": 43,
     "metadata": {},
     "output_type": "execute_result"
    },
    {
     "data": {
      "image/png": "[encoded data removed]",
      "text/plain": [
       "<Figure size 432x288 with 1 Axes>"
      ]
     },
     "metadata": {
      "needs_background": "light"
     },
     "output_type": "display_data"
    }
   ],
   "source": [
    "y=df_movies['year'].value_counts()\n",
    "sns.barplot(y.index,y.values)"
   ]
  },
  {
   "cell_type": "code",
   "execution_count": 42,
   "id": "4249762d",
   "metadata": {},
   "outputs": [
    {
     "name": "stderr",
     "output_type": "stream",
     "text": [
      "No artists with labels found to put in legend.  Note that artists whose label start with an underscore are ignored when legend() is called with no argument.\n"
     ]
    },
    {
     "data": {
      "image/png": "[encoded data removed]",
      "text/plain": [
       "<Figure size 1152x288 with 3 Axes>"
      ]
     },
     "metadata": {
      "needs_background": "light"
     },
     "output_type": "display_data"
    }
   ],
   "source": [
    "fig, axes = plt.subplots(nrows = 1, ncols = 3, figsize = (16,4))\n",
    "ax1, ax2, ax3 = fig.axes\n",
    "ax1.hist(df_movies['imdb'], bins = 10, range = (0,10)) # bin range = 1\n",
    "ax1.set_title('IMDB rating')\n",
    "ax2.hist(df_movies['metascore'], bins = 10, range = (0,100)) # bin range = 10\n",
    "ax2.set_title('Metascore')\n",
    "ax3.hist(df_movies['n_imdb'], bins = 10, range = (0,100), histtype = 'step')\n",
    "ax3.hist(df_movies['metascore'], bins = 10, range = (0,100), histtype = 'step')\n",
    "ax3.legend(loc = 'upper left')\n",
    "ax3.set_title('The Two Normalized Distributions')\n",
    "for ax in fig.axes:\n",
    "    ax.spines['top'].set_visible(False)\n",
    "    ax.spines['right'].set_visible(False)\n",
    "plt.show()"
   ]
  },
  {
   "cell_type": "code",
   "execution_count": null,
   "id": "cceee3c6",
   "metadata": {},
   "outputs": [],
   "source": []
  }
 ],
 "metadata": {
  "kernelspec": {
   "display_name": "Python 3 (ipykernel)",
   "language": "python",
   "name": "python3"
  },
  "language_info": {
   "codemirror_mode": {
    "name": "ipython",
    "version": 3
   },
   "file_extension": ".py",
   "mimetype": "text/x-python",
   "name": "python",
   "nbconvert_exporter": "python",
   "pygments_lexer": "ipython3",
   "version": "3.9.12"
  }
 },
 "nbformat": 4,
 "nbformat_minor": 5
}
